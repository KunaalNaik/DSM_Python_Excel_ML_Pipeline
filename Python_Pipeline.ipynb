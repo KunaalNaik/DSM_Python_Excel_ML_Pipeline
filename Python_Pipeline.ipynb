{
 "cells": [
  {
   "cell_type": "markdown",
   "id": "02653f99-31ea-4b7a-8055-b3c2dc642120",
   "metadata": {
    "jp-MarkdownHeadingCollapsed": true,
    "tags": []
   },
   "source": [
    "# Pipeline\n",
    "\n",
    "- Import Packages\n",
    "- Import Data\n",
    "- Check Data\n",
    "- Check Target Feature\n",
    "- Get Numerical and Categorical Column Names\n",
    "- Partition Data into y and X\n",
    "- Train Test Split\n",
    "- Pre Process Data\n",
    "- Build Model\n",
    "- Predict\n",
    "- Make Submission/Output File\n",
    "- Export\n",
    "\n",
    "# Critical Thinking (Asking Questions)\n",
    "\n",
    "- Why\n",
    "- What\n",
    "- When\n",
    "- How\n",
    "- Where "
   ]
  },
  {
   "cell_type": "markdown",
   "id": "affffd94-964f-43ce-a89b-cec702ed6ce1",
   "metadata": {},
   "source": [
    "# Import Packages"
   ]
  },
  {
   "cell_type": "code",
   "execution_count": 52,
   "id": "e03d25bf-a8a2-4435-a17d-831fe8aed5b2",
   "metadata": {},
   "outputs": [],
   "source": [
    "import pandas as pd\n",
    "import numpy as np\n",
    "\n",
    "from sklearn.model_selection import train_test_split"
   ]
  },
  {
   "cell_type": "markdown",
   "id": "59e76e01-89ba-4509-aa7f-5f05dd3d726a",
   "metadata": {},
   "source": [
    "# Import Data"
   ]
  },
  {
   "cell_type": "code",
   "execution_count": 53,
   "id": "69191e6e-f82a-429b-90bf-c9747cf7077f",
   "metadata": {},
   "outputs": [],
   "source": [
    "train_data = pd.read_csv('input/train.csv')\n",
    "test_data = pd.read_csv('input/test.csv')\n",
    "submission_data = pd.read_csv('input/sample_submission.csv')"
   ]
  },
  {
   "cell_type": "markdown",
   "id": "9ecfd5aa-5066-425c-9872-219b24e7157b",
   "metadata": {},
   "source": [
    "# Check Data\n",
    "- Meta Data \n",
    "    - rows\n",
    "    - columns\n",
    "    - size\n",
    "    - Numerical/Categorical/ID/Dates/Geo/others\n",
    "    - Missing Values\n",
    "    - Data Type Conversion (Num to Cat, Cat to Num)"
   ]
  },
  {
   "cell_type": "code",
   "execution_count": 54,
   "id": "ade826ad-298a-4cbe-b2b5-c507bbe11f8e",
   "metadata": {},
   "outputs": [
    {
     "data": {
      "text/html": [
       "<div>\n",
       "<style scoped>\n",
       "    .dataframe tbody tr th:only-of-type {\n",
       "        vertical-align: middle;\n",
       "    }\n",
       "\n",
       "    .dataframe tbody tr th {\n",
       "        vertical-align: top;\n",
       "    }\n",
       "\n",
       "    .dataframe thead th {\n",
       "        text-align: right;\n",
       "    }\n",
       "</style>\n",
       "<table border=\"1\" class=\"dataframe\">\n",
       "  <thead>\n",
       "    <tr style=\"text-align: right;\">\n",
       "      <th></th>\n",
       "      <th>enrollee_id</th>\n",
       "      <th>city</th>\n",
       "      <th>city_development_index</th>\n",
       "      <th>gender</th>\n",
       "      <th>relevent_experience</th>\n",
       "      <th>enrolled_university</th>\n",
       "      <th>education_level</th>\n",
       "      <th>major_discipline</th>\n",
       "      <th>experience</th>\n",
       "      <th>company_size</th>\n",
       "      <th>company_type</th>\n",
       "      <th>last_new_job</th>\n",
       "      <th>training_hours</th>\n",
       "      <th>target</th>\n",
       "    </tr>\n",
       "  </thead>\n",
       "  <tbody>\n",
       "    <tr>\n",
       "      <th>0</th>\n",
       "      <td>23798</td>\n",
       "      <td>city_149</td>\n",
       "      <td>0.689</td>\n",
       "      <td>Male</td>\n",
       "      <td>Has relevent experience</td>\n",
       "      <td>no_enrollment</td>\n",
       "      <td>Graduate</td>\n",
       "      <td>STEM</td>\n",
       "      <td>3</td>\n",
       "      <td>100-500</td>\n",
       "      <td>Pvt Ltd</td>\n",
       "      <td>1</td>\n",
       "      <td>106</td>\n",
       "      <td>0</td>\n",
       "    </tr>\n",
       "    <tr>\n",
       "      <th>1</th>\n",
       "      <td>29166</td>\n",
       "      <td>city_83</td>\n",
       "      <td>0.923</td>\n",
       "      <td>Male</td>\n",
       "      <td>Has relevent experience</td>\n",
       "      <td>no_enrollment</td>\n",
       "      <td>Graduate</td>\n",
       "      <td>STEM</td>\n",
       "      <td>14</td>\n",
       "      <td>&lt;10</td>\n",
       "      <td>Funded Startup</td>\n",
       "      <td>1</td>\n",
       "      <td>69</td>\n",
       "      <td>0</td>\n",
       "    </tr>\n",
       "    <tr>\n",
       "      <th>2</th>\n",
       "      <td>46</td>\n",
       "      <td>city_16</td>\n",
       "      <td>0.910</td>\n",
       "      <td>NaN</td>\n",
       "      <td>Has relevent experience</td>\n",
       "      <td>no_enrollment</td>\n",
       "      <td>Graduate</td>\n",
       "      <td>STEM</td>\n",
       "      <td>6</td>\n",
       "      <td>50-99</td>\n",
       "      <td>Public Sector</td>\n",
       "      <td>2</td>\n",
       "      <td>4</td>\n",
       "      <td>0</td>\n",
       "    </tr>\n",
       "    <tr>\n",
       "      <th>3</th>\n",
       "      <td>18527</td>\n",
       "      <td>city_64</td>\n",
       "      <td>0.666</td>\n",
       "      <td>Male</td>\n",
       "      <td>Has relevent experience</td>\n",
       "      <td>no_enrollment</td>\n",
       "      <td>Graduate</td>\n",
       "      <td>STEM</td>\n",
       "      <td>14</td>\n",
       "      <td>50-99</td>\n",
       "      <td>Pvt Ltd</td>\n",
       "      <td>1</td>\n",
       "      <td>26</td>\n",
       "      <td>0</td>\n",
       "    </tr>\n",
       "    <tr>\n",
       "      <th>4</th>\n",
       "      <td>21751</td>\n",
       "      <td>city_100</td>\n",
       "      <td>0.887</td>\n",
       "      <td>NaN</td>\n",
       "      <td>No relevent experience</td>\n",
       "      <td>no_enrollment</td>\n",
       "      <td>Masters</td>\n",
       "      <td>STEM</td>\n",
       "      <td>8</td>\n",
       "      <td>NaN</td>\n",
       "      <td>NaN</td>\n",
       "      <td>2</td>\n",
       "      <td>88</td>\n",
       "      <td>1</td>\n",
       "    </tr>\n",
       "  </tbody>\n",
       "</table>\n",
       "</div>"
      ],
      "text/plain": [
       "   enrollee_id      city  city_development_index gender  \\\n",
       "0        23798  city_149                   0.689   Male   \n",
       "1        29166   city_83                   0.923   Male   \n",
       "2           46   city_16                   0.910    NaN   \n",
       "3        18527   city_64                   0.666   Male   \n",
       "4        21751  city_100                   0.887    NaN   \n",
       "\n",
       "       relevent_experience enrolled_university education_level  \\\n",
       "0  Has relevent experience       no_enrollment        Graduate   \n",
       "1  Has relevent experience       no_enrollment        Graduate   \n",
       "2  Has relevent experience       no_enrollment        Graduate   \n",
       "3  Has relevent experience       no_enrollment        Graduate   \n",
       "4   No relevent experience       no_enrollment         Masters   \n",
       "\n",
       "  major_discipline experience company_size    company_type last_new_job  \\\n",
       "0             STEM          3      100-500         Pvt Ltd            1   \n",
       "1             STEM         14          <10  Funded Startup            1   \n",
       "2             STEM          6        50-99   Public Sector            2   \n",
       "3             STEM         14        50-99         Pvt Ltd            1   \n",
       "4             STEM          8          NaN             NaN            2   \n",
       "\n",
       "   training_hours  target  \n",
       "0             106       0  \n",
       "1              69       0  \n",
       "2               4       0  \n",
       "3              26       0  \n",
       "4              88       1  "
      ]
     },
     "execution_count": 54,
     "metadata": {},
     "output_type": "execute_result"
    }
   ],
   "source": [
    "train_data.head()"
   ]
  },
  {
   "cell_type": "code",
   "execution_count": 55,
   "id": "265e2587-b8e1-451a-876f-92d6b8c318bc",
   "metadata": {},
   "outputs": [
    {
     "data": {
      "text/plain": [
       "(18359, 14)"
      ]
     },
     "execution_count": 55,
     "metadata": {},
     "output_type": "execute_result"
    }
   ],
   "source": [
    "train_data.shape"
   ]
  },
  {
   "cell_type": "code",
   "execution_count": 56,
   "id": "6544c140-43e7-4d3f-ba0a-2affa4e58f4a",
   "metadata": {},
   "outputs": [
    {
     "name": "stdout",
     "output_type": "stream",
     "text": [
      "<class 'pandas.core.frame.DataFrame'>\n",
      "RangeIndex: 18359 entries, 0 to 18358\n",
      "Data columns (total 14 columns):\n",
      " #   Column                  Non-Null Count  Dtype  \n",
      "---  ------                  --------------  -----  \n",
      " 0   enrollee_id             18359 non-null  int64  \n",
      " 1   city                    18359 non-null  object \n",
      " 2   city_development_index  18359 non-null  float64\n",
      " 3   gender                  14261 non-null  object \n",
      " 4   relevent_experience     18359 non-null  object \n",
      " 5   enrolled_university     18017 non-null  object \n",
      " 6   education_level         17902 non-null  object \n",
      " 7   major_discipline        15521 non-null  object \n",
      " 8   experience              18300 non-null  object \n",
      " 9   company_size            13580 non-null  object \n",
      " 10  company_type            13320 non-null  object \n",
      " 11  last_new_job            17992 non-null  object \n",
      " 12  training_hours          18359 non-null  int64  \n",
      " 13  target                  18359 non-null  int64  \n",
      "dtypes: float64(1), int64(3), object(10)\n",
      "memory usage: 2.0+ MB\n"
     ]
    }
   ],
   "source": [
    "train_data.info()"
   ]
  },
  {
   "cell_type": "code",
   "execution_count": 57,
   "id": "10890735-7e6f-4e5d-86a2-998967639261",
   "metadata": {},
   "outputs": [
    {
     "data": {
      "text/html": [
       "<div>\n",
       "<style scoped>\n",
       "    .dataframe tbody tr th:only-of-type {\n",
       "        vertical-align: middle;\n",
       "    }\n",
       "\n",
       "    .dataframe tbody tr th {\n",
       "        vertical-align: top;\n",
       "    }\n",
       "\n",
       "    .dataframe thead th {\n",
       "        text-align: right;\n",
       "    }\n",
       "</style>\n",
       "<table border=\"1\" class=\"dataframe\">\n",
       "  <thead>\n",
       "    <tr style=\"text-align: right;\">\n",
       "      <th></th>\n",
       "      <th>enrollee_id</th>\n",
       "      <th>city_development_index</th>\n",
       "      <th>training_hours</th>\n",
       "      <th>target</th>\n",
       "    </tr>\n",
       "  </thead>\n",
       "  <tbody>\n",
       "    <tr>\n",
       "      <th>count</th>\n",
       "      <td>18359.000000</td>\n",
       "      <td>18359.000000</td>\n",
       "      <td>18359.000000</td>\n",
       "      <td>18359.000000</td>\n",
       "    </tr>\n",
       "    <tr>\n",
       "      <th>mean</th>\n",
       "      <td>16729.360096</td>\n",
       "      <td>0.847140</td>\n",
       "      <td>65.899014</td>\n",
       "      <td>0.132088</td>\n",
       "    </tr>\n",
       "    <tr>\n",
       "      <th>std</th>\n",
       "      <td>9643.749725</td>\n",
       "      <td>0.110189</td>\n",
       "      <td>60.885300</td>\n",
       "      <td>0.338595</td>\n",
       "    </tr>\n",
       "    <tr>\n",
       "      <th>min</th>\n",
       "      <td>1.000000</td>\n",
       "      <td>0.448000</td>\n",
       "      <td>1.000000</td>\n",
       "      <td>0.000000</td>\n",
       "    </tr>\n",
       "    <tr>\n",
       "      <th>25%</th>\n",
       "      <td>8378.500000</td>\n",
       "      <td>0.796000</td>\n",
       "      <td>23.000000</td>\n",
       "      <td>0.000000</td>\n",
       "    </tr>\n",
       "    <tr>\n",
       "      <th>50%</th>\n",
       "      <td>16706.000000</td>\n",
       "      <td>0.910000</td>\n",
       "      <td>47.000000</td>\n",
       "      <td>0.000000</td>\n",
       "    </tr>\n",
       "    <tr>\n",
       "      <th>75%</th>\n",
       "      <td>25148.500000</td>\n",
       "      <td>0.920000</td>\n",
       "      <td>89.000000</td>\n",
       "      <td>0.000000</td>\n",
       "    </tr>\n",
       "    <tr>\n",
       "      <th>max</th>\n",
       "      <td>33380.000000</td>\n",
       "      <td>0.949000</td>\n",
       "      <td>336.000000</td>\n",
       "      <td>1.000000</td>\n",
       "    </tr>\n",
       "  </tbody>\n",
       "</table>\n",
       "</div>"
      ],
      "text/plain": [
       "        enrollee_id  city_development_index  training_hours        target\n",
       "count  18359.000000            18359.000000    18359.000000  18359.000000\n",
       "mean   16729.360096                0.847140       65.899014      0.132088\n",
       "std     9643.749725                0.110189       60.885300      0.338595\n",
       "min        1.000000                0.448000        1.000000      0.000000\n",
       "25%     8378.500000                0.796000       23.000000      0.000000\n",
       "50%    16706.000000                0.910000       47.000000      0.000000\n",
       "75%    25148.500000                0.920000       89.000000      0.000000\n",
       "max    33380.000000                0.949000      336.000000      1.000000"
      ]
     },
     "execution_count": 57,
     "metadata": {},
     "output_type": "execute_result"
    }
   ],
   "source": [
    "train_data.describe()"
   ]
  },
  {
   "cell_type": "markdown",
   "id": "a8760fed-88cf-4746-9522-79c9aba9578c",
   "metadata": {},
   "source": [
    "# Check Target\n",
    "- Classification - Check Class Imbalance\n",
    "- Regression - Check for Normality"
   ]
  },
  {
   "cell_type": "code",
   "execution_count": 58,
   "id": "0cd6c1e5-2d93-4bba-840a-9f306aa74cb3",
   "metadata": {},
   "outputs": [
    {
     "data": {
      "text/plain": [
       "<Axes: >"
      ]
     },
     "execution_count": 58,
     "metadata": {},
     "output_type": "execute_result"
    },
    {
     "data": {
      "image/png": "[encoded data removed]",
      "text/plain": [
       "<Figure size 640x480 with 1 Axes>"
      ]
     },
     "metadata": {},
     "output_type": "display_data"
    }
   ],
   "source": [
    "train_data['target'].value_counts().plot.bar()"
   ]
  },
  {
   "cell_type": "markdown",
   "id": "bc6519ef-21e2-4cbb-b359-17f0aa7bedf9",
   "metadata": {},
   "source": [
    "# Get Num/Cat Column Names"
   ]
  },
  {
   "cell_type": "code",
   "execution_count": 59,
   "id": "5919db06-3f18-438a-9002-b798e48bf6f5",
   "metadata": {},
   "outputs": [],
   "source": [
    "numerical_columns = train_data.drop(['enrollee_id', 'target'], axis = 1).select_dtypes(include=['int64', 'float64']).columns.tolist()\n",
    "categorical_columns = train_data.select_dtypes(include=['object']).columns.tolist()"
   ]
  },
  {
   "cell_type": "code",
   "execution_count": 60,
   "id": "973374f3-0d75-4e51-8d6b-8c830f047334",
   "metadata": {},
   "outputs": [
    {
     "data": {
      "text/plain": [
       "['city_development_index', 'training_hours']"
      ]
     },
     "execution_count": 60,
     "metadata": {},
     "output_type": "execute_result"
    }
   ],
   "source": [
    "numerical_columns"
   ]
  },
  {
   "cell_type": "code",
   "execution_count": 61,
   "id": "6835e07b-6965-454b-ad4e-c9ef00c78f0a",
   "metadata": {},
   "outputs": [
    {
     "data": {
      "text/plain": [
       "['city',\n",
       " 'gender',\n",
       " 'relevent_experience',\n",
       " 'enrolled_university',\n",
       " 'education_level',\n",
       " 'major_discipline',\n",
       " 'experience',\n",
       " 'company_size',\n",
       " 'company_type',\n",
       " 'last_new_job']"
      ]
     },
     "execution_count": 61,
     "metadata": {},
     "output_type": "execute_result"
    }
   ],
   "source": [
    "categorical_columns"
   ]
  },
  {
   "cell_type": "markdown",
   "id": "9f7fc294-d016-4a5b-b529-e4ceb36de920",
   "metadata": {},
   "source": [
    "# Parition into y & X"
   ]
  },
  {
   "cell_type": "code",
   "execution_count": 62,
   "id": "07d51d0d-7ea2-4ef3-a903-44350955a785",
   "metadata": {},
   "outputs": [],
   "source": [
    "y = train_data['target']\n",
    "\n",
    "# Define the feature variables 'X' (excluding the target and 'id' column)\n",
    "X = train_data.drop(columns=['enrollee_id', 'target'], axis = 1)\n",
    "X_test = test_data.drop(columns=['enrollee_id'], axis = 1)\n",
    "\n",
    "# Cast the spell to split the data into training and testing sets\n",
    "X_train, X_val, y_train, y_val = train_test_split(X, y, test_size=0.2, random_state=42)"
   ]
  },
  {
   "cell_type": "code",
   "execution_count": 63,
   "id": "6d7965ef-7683-431a-b82b-ece601f9870d",
   "metadata": {},
   "outputs": [
    {
     "name": "stdout",
     "output_type": "stream",
     "text": [
      "Training features: (14687, 12)\n",
      "Testing features: (15021, 12)\n",
      "Training labels: (14687,)\n",
      "Testing labels: (3672,)\n"
     ]
    }
   ],
   "source": [
    "print(\"Training features:\", X_train.shape)\n",
    "print(\"Testing features:\", X_test.shape)\n",
    "print(\"Training labels:\", y_train.shape)\n",
    "print(\"Testing labels:\", y_test.shape)"
   ]
  },
  {
   "cell_type": "markdown",
   "id": "3c457099-2f60-420c-aacf-af94e9c3de3d",
   "metadata": {},
   "source": [
    "# Pre Processing\n",
    "\n",
    "### 1. **Cleaning the Cobwebs 🧹**\n",
    "   - **Handle Missing Values**: Use imputation or drop those sneaky nulls.\n",
    "   - **Remove Duplicates**: Banish those copycat rows.\n",
    "   - **Fix Typos & Errors**: Correct those mischievous misspellings.\n",
    "\n",
    "### 2. **Transforming the Beast 🐲**\n",
    "   - **Normalization**: Scale the features to a range, like 0 to 1.\n",
    "   - **Standardization**: Transform to mean = 0 and standard deviation = 1.\n",
    "   - **Log Transformation**: Apply logarithms to tame the wild skewness.\n",
    "   - **Categorical Encoding**: Turn categorical gems into numbers with One-Hot or Label Encoding.\n",
    "\n",
    "### 3. **Feature Engineering: Building Castles 🏰**\n",
    "   - **Create New Features**: Craft new treasures from the old.\n",
    "   - **Polynomial Features**: Add complexity with polynomial magic.\n",
    "   - **Binning**: Divide continuous features into magical bins or groups.\n",
    "\n",
    "### 4. **Data Reduction: Traveling Light 🎒**\n",
    "   - **Dimensionality Reduction**: Use PCA or other methods to pack lightly.\n",
    "   - **Feature Selection**: Choose only the most sparkling gems.\n",
    "\n",
    "### 5. **Text Preprocessing: Taming the Wordy Dragon 🐉**\n",
    "   - **Tokenization**: Break text into words or tokens.\n",
    "   - **Stemming & Lemmatization**: Get to the root of the words.\n",
    "   - **TF-IDF**: Weigh the words like a wise old owl.\n",
    "\n",
    "### 6. **Image Preprocessing: Seeing the Unseen 🌌**\n",
    "   - **Rescaling & Normalizing**: Resize the images and scale the pixel values.\n",
    "   - **Data Augmentation**: Create new images through rotation, flipping, etc.\n",
    "\n",
    "### 7. **Time-Series Preprocessing: Time Traveler's Toolkit 🕰️**\n",
    "   - **Seasonal Decomposition**: Break time-series into trends and seasons.\n",
    "   - **Lag Features**: Look back in time with lagged features."
   ]
  },
  {
   "cell_type": "markdown",
   "id": "56ea3666-2021-4f69-8d93-6508ee55c369",
   "metadata": {},
   "source": [
    "# Pre Processing - Getting Started\n",
    "\n",
    "### 1. **Cleaning**\n",
    "   - Handle Missing Numerical Values\n",
    "   - Handle Missing Catetorical Values\n",
    "\n",
    "### 2. **Transforming the Beast 🐲**\n",
    "   - Numerical - Standard Scaling\n",
    "   - Catetegorical - Ordinal Encoding"
   ]
  },
  {
   "cell_type": "code",
   "execution_count": 64,
   "id": "f0db6b34-f6a3-4f10-9966-2ee558ff3e99",
   "metadata": {},
   "outputs": [],
   "source": [
    "# Import Package\n",
    "from sklearn.impute import SimpleImputer\n",
    "\n",
    "# Create an Instance\n",
    "num_imputer = SimpleImputer(strategy='median')\n",
    "\n",
    "# Fit Instance\n",
    "num_imputer.fit(train_data[numerical_columns])\n",
    "\n",
    "# Transform \n",
    "X_train[numerical_columns] = num_imputer.transform(X_train[numerical_columns])\n",
    "X_val[numerical_columns] = num_imputer.transform(X_val[numerical_columns])\n",
    "X_test[numerical_columns] = num_imputer.transform(X_test[numerical_columns])"
   ]
  },
  {
   "cell_type": "code",
   "execution_count": 65,
   "id": "7cdd968e-e1e2-4c26-b625-52e45c94d366",
   "metadata": {},
   "outputs": [],
   "source": [
    "# Import Package\n",
    "from sklearn.impute import SimpleImputer\n",
    "\n",
    "# Create an Instance\n",
    "cat_imputer = SimpleImputer(strategy='constant', fill_value = 'missing')\n",
    "\n",
    "# Fit Instance\n",
    "cat_imputer.fit(train_data[categorical_columns])\n",
    "\n",
    "# Transform \n",
    "X_train[categorical_columns] = cat_imputer.transform(X_train[categorical_columns])\n",
    "X_val[categorical_columns] = cat_imputer.transform(X_val[categorical_columns])\n",
    "X_test[categorical_columns] = cat_imputer.transform(X_test[categorical_columns])"
   ]
  },
  {
   "cell_type": "code",
   "execution_count": 66,
   "id": "6753b2fa-ca7e-42c0-b00f-f407c5326e6b",
   "metadata": {},
   "outputs": [],
   "source": [
    "# Import Package\n",
    "from sklearn.preprocessing import StandardScaler\n",
    "\n",
    "# Create an Instance\n",
    "standard_scaler = StandardScaler()\n",
    "\n",
    "# Fit Instance\n",
    "standard_scaler.fit(X_train[numerical_columns])\n",
    "\n",
    "# Transform\n",
    "X_train[numerical_columns] = standard_scaler.transform(X_train[numerical_columns])\n",
    "X_val[numerical_columns] = standard_scaler.transform(X_val[numerical_columns])\n",
    "X_test[numerical_columns] = standard_scaler.transform(X_test[numerical_columns])"
   ]
  },
  {
   "cell_type": "code",
   "execution_count": 67,
   "id": "db0a12f4-353f-417c-93f6-0b4ae4109d72",
   "metadata": {},
   "outputs": [],
   "source": [
    "# Import Package\n",
    "from sklearn.preprocessing import OrdinalEncoder\n",
    "\n",
    "# Create an Instance\n",
    "ordinal_encoder = OrdinalEncoder()\n",
    "\n",
    "# Fit Instance on the categorical columns\n",
    "ordinal_encoder.fit(X_train[categorical_columns])\n",
    "\n",
    "# Transform\n",
    "X_train[categorical_columns] = ordinal_encoder.transform(X_train[categorical_columns])\n",
    "X_val[categorical_columns] = ordinal_encoder.transform(X_val[categorical_columns])\n",
    "X_test[categorical_columns] = ordinal_encoder.transform(X_test[categorical_columns])"
   ]
  },
  {
   "cell_type": "markdown",
   "id": "0baafb7c-934d-42af-bc15-a3a3d795387f",
   "metadata": {},
   "source": [
    "# Model"
   ]
  },
  {
   "cell_type": "code",
   "execution_count": 68,
   "id": "431167da-4037-49ad-a1d3-0611dac80eec",
   "metadata": {},
   "outputs": [
    {
     "data": {
      "text/html": [
       "<style>#sk-container-id-1 {color: black;background-color: white;}#sk-container-id-1 pre{padding: 0;}#sk-container-id-1 div.sk-toggleable {background-color: white;}#sk-container-id-1 label.sk-toggleable__label {cursor: pointer;display: block;width: 100%;margin-bottom: 0;padding: 0.3em;box-sizing: border-box;text-align: center;}#sk-container-id-1 label.sk-toggleable__label-arrow:before {content: \"▸\";float: left;margin-right: 0.25em;color: #696969;}#sk-container-id-1 label.sk-toggleable__label-arrow:hover:before {color: black;}#sk-container-id-1 div.sk-estimator:hover label.sk-toggleable__label-arrow:before {color: black;}#sk-container-id-1 div.sk-toggleable__content {max-height: 0;max-width: 0;overflow: hidden;text-align: left;background-color: #f0f8ff;}#sk-container-id-1 div.sk-toggleable__content pre {margin: 0.2em;color: black;border-radius: 0.25em;background-color: #f0f8ff;}#sk-container-id-1 input.sk-toggleable__control:checked~div.sk-toggleable__content {max-height: 200px;max-width: 100%;overflow: auto;}#sk-container-id-1 input.sk-toggleable__control:checked~label.sk-toggleable__label-arrow:before {content: \"▾\";}#sk-container-id-1 div.sk-estimator input.sk-toggleable__control:checked~label.sk-toggleable__label {background-color: #d4ebff;}#sk-container-id-1 div.sk-label input.sk-toggleable__control:checked~label.sk-toggleable__label {background-color: #d4ebff;}#sk-container-id-1 input.sk-hidden--visually {border: 0;clip: rect(1px 1px 1px 1px);clip: rect(1px, 1px, 1px, 1px);height: 1px;margin: -1px;overflow: hidden;padding: 0;position: absolute;width: 1px;}#sk-container-id-1 div.sk-estimator {font-family: monospace;background-color: #f0f8ff;border: 1px dotted black;border-radius: 0.25em;box-sizing: border-box;margin-bottom: 0.5em;}#sk-container-id-1 div.sk-estimator:hover {background-color: #d4ebff;}#sk-container-id-1 div.sk-parallel-item::after {content: \"\";width: 100%;border-bottom: 1px solid gray;flex-grow: 1;}#sk-container-id-1 div.sk-label:hover label.sk-toggleable__label {background-color: #d4ebff;}#sk-container-id-1 div.sk-serial::before {content: \"\";position: absolute;border-left: 1px solid gray;box-sizing: border-box;top: 0;bottom: 0;left: 50%;z-index: 0;}#sk-container-id-1 div.sk-serial {display: flex;flex-direction: column;align-items: center;background-color: white;padding-right: 0.2em;padding-left: 0.2em;position: relative;}#sk-container-id-1 div.sk-item {position: relative;z-index: 1;}#sk-container-id-1 div.sk-parallel {display: flex;align-items: stretch;justify-content: center;background-color: white;position: relative;}#sk-container-id-1 div.sk-item::before, #sk-container-id-1 div.sk-parallel-item::before {content: \"\";position: absolute;border-left: 1px solid gray;box-sizing: border-box;top: 0;bottom: 0;left: 50%;z-index: -1;}#sk-container-id-1 div.sk-parallel-item {display: flex;flex-direction: column;z-index: 1;position: relative;background-color: white;}#sk-container-id-1 div.sk-parallel-item:first-child::after {align-self: flex-end;width: 50%;}#sk-container-id-1 div.sk-parallel-item:last-child::after {align-self: flex-start;width: 50%;}#sk-container-id-1 div.sk-parallel-item:only-child::after {width: 0;}#sk-container-id-1 div.sk-dashed-wrapped {border: 1px dashed gray;margin: 0 0.4em 0.5em 0.4em;box-sizing: border-box;padding-bottom: 0.4em;background-color: white;}#sk-container-id-1 div.sk-label label {font-family: monospace;font-weight: bold;display: inline-block;line-height: 1.2em;}#sk-container-id-1 div.sk-label-container {text-align: center;}#sk-container-id-1 div.sk-container {/* jupyter's `normalize.less` sets `[hidden] { display: none; }` but bootstrap.min.css set `[hidden] { display: none !important; }` so we also need the `!important` here to be able to override the default hidden behavior on the sphinx rendered scikit-learn.org. See: https://github.com/scikit-learn/scikit-learn/issues/21755 */display: inline-block !important;position: relative;}#sk-container-id-1 div.sk-text-repr-fallback {display: none;}</style><div id=\"sk-container-id-1\" class=\"sk-top-container\"><div class=\"sk-text-repr-fallback\"><pre>LogisticRegression(max_iter=1000)</pre><b>In a Jupyter environment, please rerun this cell to show the HTML representation or trust the notebook. <br />On GitHub, the HTML representation is unable to render, please try loading this page with nbviewer.org.</b></div><div class=\"sk-container\" hidden><div class=\"sk-item\"><div class=\"sk-estimator sk-toggleable\"><input class=\"sk-toggleable__control sk-hidden--visually\" id=\"sk-estimator-id-1\" type=\"checkbox\" checked><label for=\"sk-estimator-id-1\" class=\"sk-toggleable__label sk-toggleable__label-arrow\">LogisticRegression</label><div class=\"sk-toggleable__content\"><pre>LogisticRegression(max_iter=1000)</pre></div></div></div></div></div>"
      ],
      "text/plain": [
       "LogisticRegression(max_iter=1000)"
      ]
     },
     "execution_count": 68,
     "metadata": {},
     "output_type": "execute_result"
    }
   ],
   "source": [
    "# Import Package\n",
    "from sklearn.linear_model import LogisticRegression\n",
    "\n",
    "# Create an Instance\n",
    "model = LogisticRegression(max_iter=1000)\n",
    "\n",
    "# Train the Model on the training data\n",
    "model.fit(X_train, y_train)"
   ]
  },
  {
   "cell_type": "markdown",
   "id": "1e00223e-c27a-42d9-88a9-7b678e0b7f8c",
   "metadata": {},
   "source": [
    "# Predict"
   ]
  },
  {
   "cell_type": "code",
   "execution_count": 69,
   "id": "a75d0615-2dff-4795-8e0b-6b003cd2d7f4",
   "metadata": {},
   "outputs": [],
   "source": [
    "# Predict on X_train\n",
    "predictions_train = model.predict(X_train)\n",
    "\n",
    "# Predict on X_val\n",
    "predictions_val = model.predict(X_val)\n",
    "\n",
    "# Predict on X_test\n",
    "predictions_test = model.predict(X_test)"
   ]
  },
  {
   "cell_type": "code",
   "execution_count": 70,
   "id": "40724db5-bb9f-4409-bf33-0be11184d298",
   "metadata": {},
   "outputs": [],
   "source": [
    "submission = pd.DataFrame({\n",
    "    'enrollee_id': test_data['enrollee_id'],\n",
    "    'target': predictions_test\n",
    "})"
   ]
  },
  {
   "cell_type": "code",
   "execution_count": 72,
   "id": "a142d95e-0a2a-40cd-a229-176ebceb67e0",
   "metadata": {},
   "outputs": [],
   "source": [
    "submission.to_csv('output/submission.csv', index=False)"
   ]
  }
 ],
 "metadata": {
  "kernelspec": {
   "display_name": "Python 3 (ipykernel)",
   "language": "python",
   "name": "python3"
  },
  "language_info": {
   "codemirror_mode": {
    "name": "ipython",
    "version": 3
   },
   "file_extension": ".py",
   "mimetype": "text/x-python",
   "name": "python",
   "nbconvert_exporter": "python",
   "pygments_lexer": "ipython3",
   "version": "3.10.9"
  }
 },
 "nbformat": 4,
 "nbformat_minor": 5
}
